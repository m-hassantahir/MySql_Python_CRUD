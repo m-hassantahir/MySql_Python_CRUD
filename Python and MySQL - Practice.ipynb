{
 "cells": [
  {
   "cell_type": "markdown",
   "id": "edbd0d4c",
   "metadata": {},
   "source": [
    "1. establish a connection\n",
    "2. create shortcut for mycursor\n",
    "3. create a database\n",
    "4. create a table with required columns in it\n",
    "5. insert entries into the table\n",
    "    i) use executemany\n",
    "    ii) use placeholders\n",
    "    iii) use commit, to modify a table\n",
    "6. using WHERE\n",
    "    i) use execute\n",
    "    ii) use fetchall\n",
    "    iii) use for/print command\n",
    "7. UPDATE a table where entry\n",
    "    i) use UPDATE <table> SET <new entry> WHERE <condition>\n",
    "    ii) use commit()\n",
    "8. "
   ]
  },
  {
   "cell_type": "code",
   "execution_count": 1,
   "id": "e02db4a7",
   "metadata": {},
   "outputs": [],
   "source": [
    "#establish a connection\n",
    "\n",
    "import mysql.connector\n",
    "\n",
    "mydb = mysql.connector.connect(\n",
    "    host=\"localhost\",\n",
    "    user=\"root\",\n",
    "    passwd=\"Asdf1234\"\n",
    ")"
   ]
  },
  {
   "cell_type": "code",
   "execution_count": 2,
   "id": "d57c89ff",
   "metadata": {},
   "outputs": [],
   "source": [
    "mycursor = mydb.cursor()"
   ]
  },
  {
   "cell_type": "code",
   "execution_count": 3,
   "id": "5b932ec9",
   "metadata": {},
   "outputs": [],
   "source": [
    "#Create a database\n",
    "\n",
    "mycursor.execute(\"CREATE DATABASE testdb2\")"
   ]
  },
  {
   "cell_type": "code",
   "execution_count": 28,
   "id": "13cdd95e",
   "metadata": {},
   "outputs": [],
   "source": [
    "#Create a table\n",
    "\n",
    "import mysql.connector\n",
    "\n",
    "mydb = mysql.connector.connect(\n",
    "    host=\"localhost\",\n",
    "    user=\"root\",\n",
    "    passwd=\"Asdf1234\",\n",
    "    database = \"testdb2\"\n",
    ")\n",
    "mycursor = mydb.cursor()\n",
    "\n",
    "mycursor.execute(\"CREATE TABLE studentssss (name VARCHAR(255), age INTEGER(10))\")"
   ]
  },
  {
   "cell_type": "code",
   "execution_count": 34,
   "id": "c00e4e31",
   "metadata": {},
   "outputs": [],
   "source": [
    "#Insert multiple entries into a table\n",
    "\n",
    "import mysql.connector\n",
    "\n",
    "mydb = mysql.connector.connect(\n",
    "    host=\"localhost\",\n",
    "    user=\"root\",\n",
    "    passwd=\"Asdf1234\",\n",
    "    database = \"testdb2\"\n",
    ")\n",
    "mycursor = mydb.cursor()\n",
    "sql = \"INSERT INTO studentssss (name, age) VALUES (%s, %s)\"\n",
    "students = [(\"Fizza\", 25),\n",
    "           (\"Haider\", 22),\n",
    "           (\"Hassan\", 23),\n",
    "           (\"Aaliya\", 24),\n",
    "           ]\n",
    "\n",
    "mycursor.executemany(sql, students)\n",
    "\n",
    "mydb.commit()"
   ]
  },
  {
   "cell_type": "code",
   "execution_count": 38,
   "id": "da650f32",
   "metadata": {},
   "outputs": [
    {
     "name": "stdout",
     "output_type": "stream",
     "text": [
      "('Fizza', 25)\n"
     ]
    }
   ],
   "source": [
    "#Using WHERE\n",
    "\n",
    "mycursor.execute(\"SELECT * FROM studentssss WHERE name LIKE 'f%'\")\n",
    "\n",
    "myresult = mycursor.fetchall()\n",
    "\n",
    "for ab in myresult:\n",
    "    print(ab)"
   ]
  },
  {
   "cell_type": "code",
   "execution_count": 41,
   "id": "e6ff3c70",
   "metadata": {},
   "outputs": [
    {
     "name": "stdout",
     "output_type": "stream",
     "text": [
      "('Ahmed', 21)\n",
      "('Haider', 22)\n",
      "('Hassan', 23)\n",
      "('Aaliya', 24)\n",
      "('Fizza', 19)\n",
      "('Haider', 22)\n",
      "('Hassan', 23)\n",
      "('Aaliya', 24)\n"
     ]
    }
   ],
   "source": [
    "#UPDATE an entry\n",
    "\n",
    "mycursor.execute(\"UPDATE studentssss SET age=19 WHERE name LIKE 'f%' \")\n",
    "\n",
    "mydb.commit()\n",
    "\n",
    "mycursor.execute(\"SELECT * FROM studentssss\")\n",
    "myresult = mycursor.fetchall()\n",
    "for ac in myresult:\n",
    "    print(ac)"
   ]
  },
  {
   "cell_type": "code",
   "execution_count": 44,
   "id": "f34939a5",
   "metadata": {},
   "outputs": [],
   "source": [
    "mycursor.execute(\"DROP TABLE studentss\")\n",
    "mydb.commit()"
   ]
  },
  {
   "cell_type": "code",
   "execution_count": 51,
   "id": "ee4e1545",
   "metadata": {},
   "outputs": [],
   "source": [
    "sql= \"INSERT INTO studentssss (name, age) VALUES (%s, %s)\"\n",
    "\n",
    "students = [(\"Bilal\", 25),\n",
    "            (\"Asim\", 26),\n",
    "            (\"Annas\", 27), ]\n",
    "\n",
    "mycursor.executemany(sql, students)\n",
    "mydb.commit()"
   ]
  },
  {
   "cell_type": "code",
   "execution_count": 52,
   "id": "2df1f48f",
   "metadata": {
    "scrolled": true
   },
   "outputs": [
    {
     "name": "stdout",
     "output_type": "stream",
     "text": [
      "('Ahmed', 21)\n",
      "('Haider', 22)\n",
      "('Hassan', 23)\n",
      "('Aaliya', 24)\n",
      "('Fizza', 19)\n",
      "('Haider', 22)\n",
      "('Hassan', 23)\n",
      "('Aaliya', 24)\n",
      "('Bilal', 25)\n",
      "('Asim', 26)\n",
      "('Annas', 27)\n"
     ]
    }
   ],
   "source": [
    "mycursor.execute(\"SELECT * FROM studentssss\")\n",
    "\n",
    "myresult = mycursor.fetchall()\n",
    "\n",
    "for ad in myresult:\n",
    "    print(ad)"
   ]
  },
  {
   "cell_type": "code",
   "execution_count": 56,
   "id": "d843da4b",
   "metadata": {},
   "outputs": [],
   "source": [
    "sql = \"INSERT INTO studentssss (name, age) VALUES (%s, %s)\"\n",
    "\n",
    "students = [(\"Umer\", 28),\n",
    "            (\"Ali\", 29),\n",
    "            (\"Hasan\", 30),\n",
    "            (\"Muneeb\", 31)\n",
    "           ]\n",
    "\n",
    "mycursor.executemany(sql, students)\n",
    "\n",
    "mydb.commit()"
   ]
  },
  {
   "cell_type": "code",
   "execution_count": 57,
   "id": "4090b583",
   "metadata": {
    "scrolled": true
   },
   "outputs": [
    {
     "name": "stdout",
     "output_type": "stream",
     "text": [
      "('Ahmed', 21)\n",
      "('Haider', 22)\n",
      "('Hassan', 23)\n",
      "('Aaliya', 24)\n",
      "('Fizza', 19)\n",
      "('Haider', 22)\n",
      "('Hassan', 23)\n",
      "('Aaliya', 24)\n",
      "('Bilal', 25)\n",
      "('Asim', 26)\n",
      "('Annas', 27)\n",
      "('Umer', 28)\n",
      "('Ali', 29)\n",
      "('Hasan', 30)\n",
      "('Muneeb', 31)\n"
     ]
    }
   ],
   "source": [
    "mycursor.execute(\"SELECT * FROM studentssss\")\n",
    "myresult = mycursor.fetchall()\n",
    "for ae in myresult:\n",
    "    print(ae)"
   ]
  },
  {
   "cell_type": "code",
   "execution_count": 58,
   "id": "22a9b2e5",
   "metadata": {
    "scrolled": true
   },
   "outputs": [
    {
     "name": "stdout",
     "output_type": "stream",
     "text": [
      "('Ahmed', 21)\n",
      "('Haider', 22)\n",
      "('Hassan', 23)\n",
      "('Aaliya', 24)\n",
      "('Fizza', 19)\n",
      "('Haider', 22)\n",
      "('Hassan', 23)\n",
      "('Aaliya', 24)\n",
      "('Bilal', 25)\n",
      "('Asim', 26)\n",
      "('Annas', 27)\n",
      "('Umer', 28)\n",
      "('Ali', 29)\n",
      "('Hasan', 30)\n",
      "('Muneeb', 31)\n",
      "('Waqee', 32)\n",
      "('Ahsan', 33)\n"
     ]
    }
   ],
   "source": [
    "sql = \"INSERT INTO studentssss (name, age) VALUES (%s, %s)\"\n",
    "\n",
    "students = [(\"Waqee\",32),\n",
    "           (\"Ahsan\",33)]\n",
    "\n",
    "mycursor.executemany(sql, students)\n",
    "\n",
    "mydb.commit()\n",
    "\n",
    "mycursor.execute(\"SELECT * FROM studentssss\")\n",
    "myresult = mycursor.fetchall()\n",
    "for af in myresult:\n",
    "    print(af)"
   ]
  },
  {
   "cell_type": "code",
   "execution_count": 61,
   "id": "32b20f82",
   "metadata": {},
   "outputs": [],
   "source": [
    "mycursor.execute(\"DELETE FROM studentssss WHERE name = 'Haider'\")\n",
    "mydb.commit()"
   ]
  },
  {
   "cell_type": "code",
   "execution_count": 62,
   "id": "c27b9194",
   "metadata": {},
   "outputs": [],
   "source": [
    "mycursor.execute(\"DELETE FROM studentssss WHERE name = 'Hassan'\")\n",
    "mydb.commit()"
   ]
  },
  {
   "cell_type": "code",
   "execution_count": 63,
   "id": "4668fa3e",
   "metadata": {},
   "outputs": [
    {
     "name": "stdout",
     "output_type": "stream",
     "text": [
      "('Ahmed', 21)\n",
      "('Aaliya', 24)\n",
      "('Fizza', 19)\n",
      "('Aaliya', 24)\n",
      "('Bilal', 25)\n",
      "('Asim', 26)\n",
      "('Annas', 27)\n",
      "('Umer', 28)\n",
      "('Ali', 29)\n",
      "('Hasan', 30)\n",
      "('Muneeb', 31)\n",
      "('Waqee', 32)\n",
      "('Ahsan', 33)\n"
     ]
    }
   ],
   "source": [
    "mycursor.execute(\"SELECT * FROM studentssss\")\n",
    "\n",
    "myresult = mycursor.fetchall()\n",
    "for ag in myresult:\n",
    "    print(ag)"
   ]
  }
 ],
 "metadata": {
  "kernelspec": {
   "display_name": "Python 3 (ipykernel)",
   "language": "python",
   "name": "python3"
  },
  "language_info": {
   "codemirror_mode": {
    "name": "ipython",
    "version": 3
   },
   "file_extension": ".py",
   "mimetype": "text/x-python",
   "name": "python",
   "nbconvert_exporter": "python",
   "pygments_lexer": "ipython3",
   "version": "3.11.4"
  }
 },
 "nbformat": 4,
 "nbformat_minor": 5
}
